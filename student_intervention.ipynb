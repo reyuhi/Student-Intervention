{
 "cells": [
  {
   "cell_type": "markdown",
   "metadata": {},
   "source": [
    "# Machine Learning Engineer Nanodegree\n",
    "## Supervised Learning\n",
    "## Project: Building a Student Intervention System"
   ]
  },
  {
   "cell_type": "markdown",
   "metadata": {},
   "source": [
    "Welcome to the second project of the Machine Learning Engineer Nanodegree! In this notebook, some template code has already been provided for you, and it will be your job to implement the additional functionality necessary to successfully complete this project. Sections that begin with **'Implementation'** in the header indicate that the following block of code will require additional functionality which you must provide. Instructions will be provided for each section and the specifics of the implementation are marked in the code block with a `'TODO'` statement. Please be sure to read the instructions carefully!\n",
    "\n",
    "In addition to implementing code, there will be questions that you must answer which relate to the project and your implementation. Each section where you will answer a question is preceded by a **'Question X'** header. Carefully read each question and provide thorough answers in the following text boxes that begin with **'Answer:'**. Your project submission will be evaluated based on your answers to each of the questions and the implementation you provide.  \n",
    "\n",
    ">**Note:** Code and Markdown cells can be executed using the **Shift + Enter** keyboard shortcut. In addition, Markdown cells can be edited by typically double-clicking the cell to enter edit mode."
   ]
  },
  {
   "cell_type": "markdown",
   "metadata": {},
   "source": [
    "### Question 1 - Classification vs. Regression\n",
    "*Your goal for this project is to identify students who might need early intervention before they fail to graduate. Which type of supervised learning problem is this, classification or regression? Why?*"
   ]
  },
  {
   "cell_type": "markdown",
   "metadata": {},
   "source": [
    "**Answer: ** This is a classification problem, because we should predict between two classes: High School dropouts or non HIgh School dropouts.\n",
    "Our predictions, based on inputs should guess when a student might give up.\n",
    "\n",
    "A regression problem is more involved with continuous outputs, so it won't be the best solution."
   ]
  },
  {
   "cell_type": "markdown",
   "metadata": {},
   "source": [
    "## Exploring the Data\n",
    "Run the code cell below to load necessary Python libraries and load the student data. Note that the last column from this dataset, `'passed'`, will be our target label (whether the student graduated or didn't graduate). All other columns are features about each student."
   ]
  },
  {
   "cell_type": "code",
   "execution_count": 9,
   "metadata": {},
   "outputs": [
    {
     "name": "stdout",
     "output_type": "stream",
     "text": [
      "Student data read successfully!\n"
     ]
    }
   ],
   "source": [
    "# Import libraries\n",
    "import numpy as np\n",
    "import pandas as pd\n",
    "from time import time\n",
    "from sklearn.metrics import f1_score\n",
    "\n",
    "# Read student data\n",
    "student_data = pd.read_csv(\"student-data.csv\")\n",
    "print \"Student data read successfully!\""
   ]
  },
  {
   "cell_type": "markdown",
   "metadata": {},
   "source": [
    "### Implementation: Data Exploration\n",
    "Let's begin by investigating the dataset to determine how many students we have information on, and learn about the graduation rate among these students. In the code cell below, you will need to compute the following:\n",
    "- The total number of students, `n_students`.\n",
    "- The total number of features for each student, `n_features`.\n",
    "- The number of those students who passed, `n_passed`.\n",
    "- The number of those students who failed, `n_failed`.\n",
    "- The graduation rate of the class, `grad_rate`, in percent (%).\n"
   ]
  },
  {
   "cell_type": "code",
   "execution_count": 38,
   "metadata": {},
   "outputs": [
    {
     "name": "stdout",
     "output_type": "stream",
     "text": [
      "Total number of students: 395\n",
      "Number of features: 30\n",
      "Number of students who passed: 265\n",
      "Number of students who failed: 130\n",
      "Graduation rate of the class: 67.09%\n"
     ]
    }
   ],
   "source": [
    "# TODO: Calculate number of students\n",
    "n_students = len(student_data)\n",
    "\n",
    "# TODO: Calculate number of features\n",
    "n_features = len(student_data.columns[:-1])\n",
    "\n",
    "# TODO: Calculate passing students\n",
    "\n",
    "target_col = student_data.columns[-1]\n",
    "n_passed  = student_data[target_col]\n",
    "\n",
    "count = 0\n",
    "\n",
    "for n_passed in student_data[target_col]:\n",
    "    if n_passed == 'yes':\n",
    "        count = count +1\n",
    "n_passed = count\n",
    "\n",
    "# n_passed = student_data['passed'].count('yes')\n",
    "# Don't work, and i don't know why\n",
    "\n",
    "# TODO: Calculate failing students\n",
    "\n",
    "target_col = student_data.columns[-1]\n",
    "n_failed  = student_data[target_col]\n",
    "\n",
    "count = 0\n",
    "\n",
    "for n_failed in student_data[target_col]:\n",
    "    if n_failed == 'no':\n",
    "        count = count +1\n",
    "n_failed = count\n",
    "\n",
    "# TODO: Calculate graduation rate\n",
    "grad_rate = float(n_passed)*100/(float(n_passed)+float(n_failed))\n",
    "\n",
    "# Print the results\n",
    "print \"Total number of students: {}\".format(n_students)\n",
    "print \"Number of features: {}\".format(n_features)\n",
    "print \"Number of students who passed: {}\".format(n_passed)\n",
    "print \"Number of students who failed: {}\".format(n_failed)\n",
    "print \"Graduation rate of the class: {:.2f}%\".format(grad_rate)"
   ]
  },
  {
   "cell_type": "markdown",
   "metadata": {},
   "source": [
    "## Preparing the Data\n",
    "In this section, we will prepare the data for modeling, training and testing.\n",
    "\n",
    "### Identify feature and target columns\n",
    "It is often the case that the data you obtain contains non-numeric features. This can be a problem, as most machine learning algorithms expect numeric data to perform computations with.\n",
    "\n",
    "Run the code cell below to separate the student data into feature and target columns to see if any features are non-numeric."
   ]
  },
  {
   "cell_type": "code",
   "execution_count": 41,
   "metadata": {},
   "outputs": [
    {
     "name": "stdout",
     "output_type": "stream",
     "text": [
      "Feature columns:\n",
      "['school', 'sex', 'age', 'address', 'famsize', 'Pstatus', 'Medu', 'Fedu', 'Mjob', 'Fjob', 'reason', 'guardian', 'traveltime', 'studytime', 'failures', 'schoolsup', 'famsup', 'paid', 'activities', 'nursery', 'higher', 'internet', 'romantic', 'famrel', 'freetime', 'goout', 'Dalc', 'Walc', 'health', 'absences']\n",
      "\n",
      "Target column: passed\n",
      "\n",
      "Feature values:\n",
      "  school sex  age address famsize Pstatus  Medu  Fedu     Mjob      Fjob  \\\n",
      "0     GP   F   18       U     GT3       A     4     4  at_home   teacher   \n",
      "1     GP   F   17       U     GT3       T     1     1  at_home     other   \n",
      "2     GP   F   15       U     LE3       T     1     1  at_home     other   \n",
      "3     GP   F   15       U     GT3       T     4     2   health  services   \n",
      "4     GP   F   16       U     GT3       T     3     3    other     other   \n",
      "\n",
      "    ...    higher internet  romantic  famrel  freetime goout Dalc Walc health  \\\n",
      "0   ...       yes       no        no       4         3     4    1    1      3   \n",
      "1   ...       yes      yes        no       5         3     3    1    1      3   \n",
      "2   ...       yes      yes        no       4         3     2    2    3      3   \n",
      "3   ...       yes      yes       yes       3         2     2    1    1      5   \n",
      "4   ...       yes       no        no       4         3     2    1    2      5   \n",
      "\n",
      "  absences  \n",
      "0        6  \n",
      "1        4  \n",
      "2       10  \n",
      "3        2  \n",
      "4        4  \n",
      "\n",
      "[5 rows x 30 columns]\n"
     ]
    },
    {
     "data": {
      "image/png": "[encoded data removed]",
      "text/plain": [
       "<matplotlib.figure.Figure at 0xc50f240>"
      ]
     },
     "metadata": {},
     "output_type": "display_data"
    }
   ],
   "source": [
    "# Extract feature columns\n",
    "feature_cols = list(student_data.columns[:-1])\n",
    "\n",
    "# Extract target column 'passed'\n",
    "target_col = student_data.columns[-1] \n",
    "\n",
    "# Show the list of columns\n",
    "print \"Feature columns:\\n{}\".format(feature_cols)\n",
    "print \"\\nTarget column: {}\".format(target_col)\n",
    "\n",
    "# Separate the data into feature data and target data (X_all and y_all, respectively)\n",
    "X_all = student_data[feature_cols]\n",
    "y_all = student_data[target_col]\n",
    "\n",
    "# Show the feature information by printing the first five rows\n",
    "print \"\\nFeature values:\"\n",
    "print X_all.head()\n",
    "\n",
    "%matplotlib inline\n",
    "import seaborn as sns\n",
    "sns.factorplot(\"failures\", col=\"paid\", data=student_data, hue='passed', kind=\"count\");"
   ]
  },
  {
   "cell_type": "markdown",
   "metadata": {},
   "source": [
    "### Preprocess Feature Columns\n",
    "\n",
    "As you can see, there are several non-numeric columns that need to be converted! Many of them are simply `yes`/`no`, e.g. `internet`. These can be reasonably converted into `1`/`0` (binary) values.\n",
    "\n",
    "Other columns, like `Mjob` and `Fjob`, have more than two values, and are known as _categorical variables_. The recommended way to handle such a column is to create as many columns as possible values (e.g. `Fjob_teacher`, `Fjob_other`, `Fjob_services`, etc.), and assign a `1` to one of them and `0` to all others.\n",
    "\n",
    "These generated columns are sometimes called _dummy variables_, and we will use the [`pandas.get_dummies()`](http://pandas.pydata.org/pandas-docs/stable/generated/pandas.get_dummies.html?highlight=get_dummies#pandas.get_dummies) function to perform this transformation. Run the code cell below to perform the preprocessing routine discussed in this section."
   ]
  },
  {
   "cell_type": "code",
   "execution_count": 42,
   "metadata": {},
   "outputs": [
    {
     "name": "stdout",
     "output_type": "stream",
     "text": [
      "Processed feature columns (48 total features):\n",
      "['school_GP', 'school_MS', 'sex_F', 'sex_M', 'age', 'address_R', 'address_U', 'famsize_GT3', 'famsize_LE3', 'Pstatus_A', 'Pstatus_T', 'Medu', 'Fedu', 'Mjob_at_home', 'Mjob_health', 'Mjob_other', 'Mjob_services', 'Mjob_teacher', 'Fjob_at_home', 'Fjob_health', 'Fjob_other', 'Fjob_services', 'Fjob_teacher', 'reason_course', 'reason_home', 'reason_other', 'reason_reputation', 'guardian_father', 'guardian_mother', 'guardian_other', 'traveltime', 'studytime', 'failures', 'schoolsup', 'famsup', 'paid', 'activities', 'nursery', 'higher', 'internet', 'romantic', 'famrel', 'freetime', 'goout', 'Dalc', 'Walc', 'health', 'absences']\n"
     ]
    }
   ],
   "source": [
    "def preprocess_features(X):\n",
    "    ''' Preprocesses the student data and converts non-numeric binary variables into\n",
    "        binary (0/1) variables. Converts categorical variables into dummy variables. '''\n",
    "    \n",
    "    # Initialize new output DataFrame\n",
    "    output = pd.DataFrame(index = X.index)\n",
    "\n",
    "    # Investigate each feature column for the data\n",
    "    for col, col_data in X.iteritems():\n",
    "        \n",
    "        # If data type is non-numeric, replace all yes/no values with 1/0\n",
    "        if col_data.dtype == object:\n",
    "            col_data = col_data.replace(['yes', 'no'], [1, 0])\n",
    "\n",
    "        # If data type is categorical, convert to dummy variables\n",
    "        if col_data.dtype == object:\n",
    "            # Example: 'school' => 'school_GP' and 'school_MS'\n",
    "            col_data = pd.get_dummies(col_data, prefix = col)  \n",
    "        \n",
    "        # Collect the revised columns\n",
    "        output = output.join(col_data)\n",
    "    \n",
    "    return output\n",
    "\n",
    "X_all = preprocess_features(X_all)\n",
    "print \"Processed feature columns ({} total features):\\n{}\".format(len(X_all.columns), list(X_all.columns))"
   ]
  },
  {
   "cell_type": "markdown",
   "metadata": {},
   "source": [
    "### Implementation: Training and Testing Data Split\n",
    "So far, we have converted all _categorical_ features into numeric values. For the next step, we split the data (both features and corresponding labels) into training and test sets. In the following code cell below, you will need to implement the following:\n",
    "- Randomly shuffle and split the data (`X_all`, `y_all`) into training and testing subsets.\n",
    "  - Use 300 training points (approximately 75%) and 95 testing points (approximately 25%).\n",
    "  - Set a `random_state` for the function(s) you use, if provided.\n",
    "  - Store the results in `X_train`, `X_test`, `y_train`, and `y_test`."
   ]
  },
  {
   "cell_type": "code",
   "execution_count": 43,
   "metadata": {},
   "outputs": [
    {
     "name": "stdout",
     "output_type": "stream",
     "text": [
      "Training set has 300 samples.\n",
      "Testing set has 95 samples.\n"
     ]
    }
   ],
   "source": [
    "# TODO: Import any additional functionality you may need here\n",
    "from sklearn.cross_validation import train_test_split\n",
    "\n",
    "# TODO: Set the number of training points\n",
    "num_train = 300\n",
    "\n",
    "# Set the number of testing points\n",
    "num_test = 95\n",
    "\n",
    "# TODO: Shuffle and split the dataset into the number of training and testing points above\n",
    "X_train, X_test, y_train, y_test = train_test_split(X_all, y_all, test_size=0.24, random_state=10)\n",
    "\n",
    "# Show the results of the split\n",
    "print \"Training set has {} samples.\".format(X_train.shape[0])\n",
    "print \"Testing set has {} samples.\".format(X_test.shape[0])"
   ]
  },
  {
   "cell_type": "markdown",
   "metadata": {},
   "source": [
    "## Training and Evaluating Models\n",
    "In this section, you will choose 3 supervised learning models that are appropriate for this problem and available in `scikit-learn`. You will first discuss the reasoning behind choosing these three models by considering what you know about the data and each model's strengths and weaknesses. You will then fit the model to varying sizes of training data (100 data points, 200 data points, and 300 data points) and measure the F<sub>1</sub> score. You will need to produce three tables (one for each model) that shows the training set size, training time, prediction time, F<sub>1</sub> score on the training set, and F<sub>1</sub> score on the testing set.\n",
    "\n",
    "**The following supervised learning models are currently available in** [`scikit-learn`](http://scikit-learn.org/stable/supervised_learning.html) **that you may choose from:**\n",
    "- Gaussian Naive Bayes (GaussianNB)\n",
    "- Decision Trees\n",
    "- Ensemble Methods (Bagging, AdaBoost, Random Forest, Gradient Boosting)\n",
    "- K-Nearest Neighbors (KNeighbors)\n",
    "- Stochastic Gradient Descent (SGDC)\n",
    "- Support Vector Machines (SVM)\n",
    "- Logistic Regression"
   ]
  },
  {
   "cell_type": "markdown",
   "metadata": {},
   "source": [
    "### Question 2 - Model Application\n",
    "*List three supervised learning models that are appropriate for this problem. For each model chosen*\n",
    "- Describe one real-world application in industry where the model can be applied. *(You may need to do a small bit of research for this — give references!)* \n",
    "- What are the strengths of the model; when does it perform well? \n",
    "- What are the weaknesses of the model; when does it perform poorly?\n",
    "- What makes this model a good candidate for the problem, given what you know about the data?"
   ]
  },
  {
   "cell_type": "markdown",
   "metadata": {},
   "source": [
    "**Answer: **Models:Decision Trees, SVM and k-Nearest Neighbors.\n",
    "\n",
    "One real application for Decision Tree is personal assistant, so let's imagine that i want to record my daily routine, for examples when i want to sleep, when i like to take my breakfast or when i usually read my emails. This personal assistant can learn this supervised model, and predict when i do these tasks.\n",
    "\n",
    "Strengths\n",
    "- It's easily understandable.\n",
    "- It can handle hard problems.\n",
    "- You can make a conjunction with other Supervised Learning Techniques.\n",
    "- Can handle numerical and nominal data\n",
    "- It can handle dataset with blank data(unknown data)\n",
    "- Don't require normalazing data\n",
    "\n",
    "Weaknesses:\n",
    "- It can easy overfit a model, that's why people usually prune their model.\n",
    "- Since it's calculated the gain and entrophy for every feature, it might take a longe computacional time.\n",
    "- Optimal decision tree techniques are NP-complete\n",
    "\n",
    "Decision Tree(ID3) performs well on training dataset, however, when presented new data, it might perform below the expected.\n",
    "\n",
    "Decision Tree is a good model for this particular problem because the student_interention data have nominal and numeric data, have many features and it can be a benchmark for others techniques.\n",
    "\n",
    "References:\n",
    "TOM MITCHELL, RICH CARUANA, DAYNE FREITAG, JOHN MCDERMOTT, AND DAVID ZABOWSKI. Experience with a learning personal assistant. Communications of the ACM, July 1994.\n",
    "http://www.cs.ubbcluj.ro/~gabis/DocDiplome/DT/DecisionTrees.pdf\n",
    "http://scikit-learn.org/0.17/modules/tree.html\n",
    "\n",
    "For SVM, a real application would be facial expression classification, so let's imagine if we could classify if a coworker is doing ok by just running a model or he/she might be facing a hard time at home, this is awesome.\n",
    "\n",
    "Strengths\n",
    "- Work well on domains that can be separte with a straight line\n",
    "- There is a regularisation parameter, which refine our model\n",
    "- Can handle convex problems, which are based on global optima\n",
    "\n",
    "Weaknesses:\n",
    "- Don't perform so well on large dataset\n",
    "\n",
    "SVM can handle non linear problems with kernel function(kernel trick), since most real class data are non linear, it's a suitable technique for this problem.\n",
    "\n",
    "References:\n",
    "J. Ghent and J. McDonald, \"Facial Expression Classification using a One-Against-All Support Vector Machine\", proceedings of the Irish Machine Vision and Image Processing Conference, Aug 2005.\n",
    "https://core.ac.uk/download/pdf/6302770.pdf\n",
    "\n",
    "KNN algorithm is often used to predict the price of stock market, so with that prediction we can play short position or long position.\n",
    "\n",
    "Strengths\n",
    "- Robust to noisy Training Data\n",
    "- Low computacional time\n",
    "- Effective in high dimesional spaces\n",
    "\n",
    "Weakness\n",
    "- Curse of Dimensionality (exponencial grow to generalization)\n",
    "- SVMs do not directly provide probability estimates\n",
    "\n",
    "KNN is robust to noise, which is also another caracteristic from a real application.\n",
    "\n",
    "References:\n",
    "http://people.revoledu.com/kardi/tutorial/KNN/Strength%20and%20Weakness.htm\n",
    "http://www.cs.upc.edu/~bejar/apren/docum/trans/03d-algind-knn-eng.pdf\n",
    "http://scikit-learn.org/0.17/modules/svm.html\n",
    "\n",
    "**In general, with model selection it's often a good idea to try out simpler methods like Logistic Regression as a benchmark, and then move on to non-linear classifiers such as your choice of SVM, Decision Trees, and KNN.**"
   ]
  },
  {
   "cell_type": "markdown",
   "metadata": {},
   "source": [
    "### Setup\n",
    "Run the code cell below to initialize three helper functions which you can use for training and testing the three supervised learning models you've chosen above. The functions are as follows:\n",
    "- `train_classifier` - takes as input a classifier and training data and fits the classifier to the data.\n",
    "- `predict_labels` - takes as input a fit classifier, features, and a target labeling and makes predictions using the F<sub>1</sub> score.\n",
    "- `train_predict` - takes as input a classifier, and the training and testing data, and performs `train_clasifier` and `predict_labels`.\n",
    " - This function will report the F<sub>1</sub> score for both the training and testing data separately."
   ]
  },
  {
   "cell_type": "code",
   "execution_count": 45,
   "metadata": {
    "collapsed": true
   },
   "outputs": [],
   "source": [
    "def train_classifier(clf, X_train, y_train):\n",
    "    ''' Fits a classifier to the training data. '''\n",
    "    \n",
    "    # Start the clock, train the classifier, then stop the clock\n",
    "    start = time()\n",
    "    clf.fit(X_train, y_train)\n",
    "    end = time()\n",
    "    \n",
    "    # Print the results\n",
    "    print \"Trained model in {:.4f} seconds\".format(end - start)\n",
    "\n",
    "    \n",
    "def predict_labels(clf, features, target):\n",
    "    ''' Makes predictions using a fit classifier based on F1 score. '''\n",
    "    \n",
    "    # Start the clock, make predictions, then stop the clock\n",
    "    start = time()\n",
    "    y_pred = clf.predict(features)\n",
    "    end = time()\n",
    "    \n",
    "    # Print and return results\n",
    "    print \"Made predictions in {:.4f} seconds.\".format(end - start)\n",
    "    return f1_score(target.values, y_pred, pos_label='yes')\n",
    "\n",
    "\n",
    "def train_predict(clf, X_train, y_train, X_test, y_test):\n",
    "    ''' Train and predict using a classifer based on F1 score. '''\n",
    "    \n",
    "    # Indicate the classifier and the training set size\n",
    "    print \"Training a {} using a training set size of {}. . .\".format(clf.__class__.__name__, len(X_train))\n",
    "    \n",
    "    # Train the classifier\n",
    "    train_classifier(clf, X_train, y_train)\n",
    "    \n",
    "    # Print the results of prediction for both training and testing\n",
    "    print \"F1 score for training set: {:.4f}.\".format(predict_labels(clf, X_train, y_train))\n",
    "    print \"F1 score for test set: {:.4f}.\".format(predict_labels(clf, X_test, y_test))"
   ]
  },
  {
   "cell_type": "markdown",
   "metadata": {},
   "source": [
    "### Implementation: Model Performance Metrics\n",
    "With the predefined functions above, you will now import the three supervised learning models of your choice and run the `train_predict` function for each one. Remember that you will need to train and predict on each classifier for three different training set sizes: 100, 200, and 300. Hence, you should expect to have 9 different outputs below — 3 for each model using the varying training set sizes. In the following code cell, you will need to implement the following:\n",
    "- Import the three supervised learning models you've discussed in the previous section.\n",
    "- Initialize the three models and store them in `clf_A`, `clf_B`, and `clf_C`.\n",
    " - Use a `random_state` for each model you use, if provided.\n",
    " - **Note:** Use the default settings for each model — you will tune one specific model in a later section.\n",
    "- Create the different training set sizes to be used to train each model.\n",
    " - *Do not reshuffle and resplit the data! The new training points should be drawn from `X_train` and `y_train`.*\n",
    "- Fit each model with each training set size and make predictions on the test set (9 in total).  \n",
    "**Note:** Three tables are provided after the following code cell which can be used to store your results."
   ]
  },
  {
   "cell_type": "code",
   "execution_count": 49,
   "metadata": {},
   "outputs": [
    {
     "name": "stdout",
     "output_type": "stream",
     "text": [
      "Decision Tree Classifier (100 Size)\n",
      "Training a DecisionTreeClassifier using a training set size of 100. . .\n",
      "Trained model in 0.0090 seconds\n",
      "Made predictions in 0.0020 seconds.\n",
      "F1 score for training set: 1.0000.\n",
      "Made predictions in 0.0020 seconds.\n",
      "F1 score for test set: 0.6870.\n",
      "None\n",
      "Decision KNN (100 Size)\n",
      "Training a KNeighborsClassifier using a training set size of 100. . .\n",
      "Trained model in 0.0060 seconds\n",
      "Made predictions in 0.0090 seconds.\n",
      "F1 score for training set: 0.8369.\n",
      "Made predictions in 0.0070 seconds.\n",
      "F1 score for test set: 0.7324.\n",
      "None\n",
      "Decision SVC (100 Size)\n",
      "Training a SVC using a training set size of 100. . .\n",
      "Trained model in 0.0080 seconds\n",
      "Made predictions in 0.0040 seconds.\n",
      "F1 score for training set: 0.8366.\n",
      "Made predictions in 0.0030 seconds.\n",
      "F1 score for test set: 0.8228.\n",
      "None\n",
      "Decision Tree Classifier (200 Size)\n",
      "Training a DecisionTreeClassifier using a training set size of 200. . .\n",
      "Trained model in 0.0080 seconds\n",
      "Made predictions in 0.0030 seconds.\n",
      "F1 score for training set: 1.0000.\n",
      "Made predictions in 0.0020 seconds.\n",
      "F1 score for test set: 0.7059.\n",
      "None\n",
      "Decision KNN (200 Size)\n",
      "Training a KNeighborsClassifier using a training set size of 200. . .\n",
      "Trained model in 0.0060 seconds\n",
      "Made predictions in 0.0120 seconds.\n",
      "F1 score for training set: 0.8441.\n",
      "Made predictions in 0.0080 seconds.\n",
      "F1 score for test set: 0.7669.\n",
      "None\n",
      "Decision SVC (200 Size)\n",
      "Training a SVC using a training set size of 200. . .\n",
      "Trained model in 0.0140 seconds\n",
      "Made predictions in 0.0090 seconds.\n",
      "F1 score for training set: 0.8552.\n",
      "Made predictions in 0.0050 seconds.\n",
      "F1 score for test set: 0.7947.\n",
      "None\n",
      "Decision Tree Classifier (300 Size)\n",
      "Training a DecisionTreeClassifier using a training set size of 300. . .\n",
      "Trained model in 0.0100 seconds\n",
      "Made predictions in 0.0040 seconds.\n",
      "F1 score for training set: 1.0000.\n",
      "Made predictions in 0.0020 seconds.\n",
      "F1 score for test set: 0.6720.\n",
      "None\n",
      "Decision KNN (300 Size)\n",
      "Training a KNeighborsClassifier using a training set size of 300. . .\n",
      "Trained model in 0.0060 seconds\n",
      "Made predictions in 0.0260 seconds.\n",
      "F1 score for training set: 0.8815.\n",
      "Made predictions in 0.0110 seconds.\n",
      "F1 score for test set: 0.7626.\n",
      "None\n",
      "Decision SVC (300 Size)\n",
      "Training a SVC using a training set size of 300. . .\n",
      "Trained model in 0.0230 seconds\n",
      "Made predictions in 0.0160 seconds.\n",
      "F1 score for training set: 0.8615.\n",
      "Made predictions in 0.0060 seconds.\n",
      "F1 score for test set: 0.8079.\n",
      "None\n",
      "Decision Tree Classifier (300 Size) Default\n",
      "Training a DecisionTreeClassifier using a training set size of 300. . .\n",
      "Trained model in 0.0080 seconds\n",
      "Made predictions in 0.0020 seconds.\n",
      "F1 score for training set: 1.0000.\n",
      "Made predictions in 0.0020 seconds.\n",
      "F1 score for test set: 0.6822.\n",
      "None\n",
      "Decision KNN (300 Size) Default\n",
      "Training a KNeighborsClassifier using a training set size of 300. . .\n",
      "Trained model in 0.0040 seconds\n",
      "Made predictions in 0.0210 seconds.\n",
      "F1 score for training set: 0.8421.\n",
      "Made predictions in 0.0100 seconds.\n",
      "F1 score for test set: 0.7714.\n",
      "None\n",
      "Decision SVC (300 Size) Default\n",
      "Training a SVC using a training set size of 300. . .\n",
      "Trained model in 0.0230 seconds\n",
      "Made predictions in 0.0160 seconds.\n",
      "F1 score for training set: 0.8615.\n",
      "Made predictions in 0.0060 seconds.\n",
      "F1 score for test set: 0.8079.\n",
      "None\n"
     ]
    }
   ],
   "source": [
    "# TODO: Import the three supervised learning models from sklearn\n",
    "# from sklearn import model_A\n",
    "from sklearn.tree import DecisionTreeClassifier\n",
    "# from sklearn import model_B\n",
    "from sklearn.neighbors import KNeighborsClassifier\n",
    "# from sklearn import model_C\n",
    "from sklearn.svm import SVC\n",
    "\n",
    "# TODO: Initialize the three models\n",
    "clf_A = DecisionTreeClassifier(random_state=10)\n",
    "clf_B = KNeighborsClassifier(n_neighbors=3,weights = 'uniform',algorithm='auto') #KNeighborsClassifier doesn't have random_state\n",
    "clf_C = SVC(random_state=10)\n",
    "\n",
    "# TODO: Set up the training set sizes\n",
    "X_train_100 = X_train[0:100]\n",
    "y_train_100 = y_train[0:100]\n",
    "\n",
    "X_train_200 = X_train[0:200]\n",
    "y_train_200 = y_train[0:200]\n",
    "\n",
    "X_train_300 = X_train\n",
    "y_train_300 = y_train\n",
    "\n",
    "# TODO: Execute the 'train_predict' function for each classifier and each training set size\n",
    "# train_predict(clf, X_train, y_train, X_test, y_test)\n",
    "print \"Decision Tree Classifier (100 Size)\"\n",
    "print train_predict(clf_A,X_train_100,y_train_100,X_test,y_test)\n",
    "print \"Decision KNN (100 Size)\"\n",
    "print train_predict(clf_B,X_train_100,y_train_100,X_test,y_test)\n",
    "print \"Decision SVC (100 Size)\"\n",
    "print train_predict(clf_C,X_train_100,y_train_100,X_test,y_test)\n",
    "print \"Decision Tree Classifier (200 Size)\"\n",
    "print train_predict(clf_A,X_train_200,y_train_200,X_test,y_test)\n",
    "print \"Decision KNN (200 Size)\"\n",
    "print train_predict(clf_B,X_train_200,y_train_200,X_test,y_test)\n",
    "print \"Decision SVC (200 Size)\"\n",
    "print train_predict(clf_C,X_train_200,y_train_200,X_test,y_test)\n",
    "print \"Decision Tree Classifier (300 Size)\"\n",
    "print train_predict(clf_A,X_train_300,y_train_300,X_test,y_test)\n",
    "print \"Decision KNN (300 Size)\"\n",
    "print train_predict(clf_B,X_train_300,y_train_300,X_test,y_test)\n",
    "print \"Decision SVC (300 Size)\"\n",
    "print train_predict(clf_C,X_train_300,y_train_300,X_test,y_test)\n",
    "\n",
    "# Default Models:\n",
    "clf_A = DecisionTreeClassifier()\n",
    "clf_B = KNeighborsClassifier()\n",
    "clf_C = SVC()\n",
    "\n",
    "print \"Decision Tree Classifier (300 Size) Default\"\n",
    "print train_predict(clf_A,X_train_300,y_train_300,X_test,y_test)\n",
    "print \"Decision KNN (300 Size) Default\"\n",
    "print train_predict(clf_B,X_train_300,y_train_300,X_test,y_test)\n",
    "print \"Decision SVC (300 Size) Default\"\n",
    "print train_predict(clf_C,X_train_300,y_train_300,X_test,y_test)"
   ]
  },
  {
   "cell_type": "markdown",
   "metadata": {},
   "source": [
    "### Tabular Results\n",
    "Edit the cell below to see how a table can be designed in [Markdown](https://github.com/adam-p/markdown-here/wiki/Markdown-Cheatsheet#tables). You can record your results from above in the tables provided."
   ]
  },
  {
   "cell_type": "markdown",
   "metadata": {},
   "source": [
    "** Classifer 1 - DecisionTreeClassifier**  \n",
    "\n",
    "| Training Set Size | Training Time | Prediction Time (test) | F1 Score (train) | F1 Score (test) |\n",
    "| :---------------: | :---------------------: | :--------------------: | :--------------: | :-------------: |\n",
    "| 100               |         0.0060          |         0.0020         |      1.0000      |     0.6870      |\n",
    "| 200               |         0.0080          |         0.0010         |      1.0000      |     0.7059      |\n",
    "| 300               |         0.0100          |         0.0010         |      1.0000      |     0.6720      |\n",
    "\n",
    "** Classifer 2 - KNeighborsClassifier**  \n",
    "\n",
    "| Training Set Size | Training Time | Prediction Time (test) | F1 Score (train) | F1 Score (test) |\n",
    "| :---------------: | :---------------------: | :--------------------: | :--------------: | :-------------: |\n",
    "| 100               |         0.0060          |         0.0070         |      0.8369      |     0.7324      |\n",
    "| 200               |         0.0060          |         0.0070         |      0.8441      |     0.7669      |\n",
    "| 300               |         0.0060          |         0.0110         |      0.8815      |     0.7626      |\n",
    "\n",
    "** Classifer 3 - SVC**  \n",
    "\n",
    "| Training Set Size | Training Time | Prediction Time (test) | F1 Score (train) | F1 Score (test) |\n",
    "| :---------------: | :---------------------: | :--------------------: | :--------------: | :-------------: |\n",
    "| 100               |         0.0070          |         0.0030         |      0.8366      |     0.8228      |\n",
    "| 200               |         0.0120          |         0.0040         |      0.8552      |     0.7947      |\n",
    "| 300               |         0.0210          |         0.0060         |      0.8615      |     0.8079      |\n",
    "\n",
    "The default DecisionTreeClassifier and KNeighborsClassifier performs better than the [100,200,300] Algorithm Classifier\n",
    "\n",
    "Decision Tree Classifier (300 Size) Default\n",
    "F1 score for test set: 0.6822.\n",
    "\n",
    "Decision SVC (300 Size) Default\n",
    "F1 score for test set: 0.7714.\n",
    "\n",
    "Decision SVC (300 Size) Default\n",
    "F1 score for test set: 0.8079."
   ]
  },
  {
   "cell_type": "markdown",
   "metadata": {},
   "source": [
    "## Choosing the Best Model\n",
    "In this final section, you will choose from the three supervised learning models the *best* model to use on the student data. You will then perform a grid search optimization for the model over the entire training set (`X_train` and `y_train`) by tuning at least one parameter to improve upon the untuned model's F<sub>1</sub> score. "
   ]
  },
  {
   "cell_type": "markdown",
   "metadata": {},
   "source": [
    "### Question 3 - Choosing the Best Model\n",
    "*Based on the experiments you performed earlier, in one to two paragraphs, explain to the board of supervisors what single model you chose as the best model. Which model is generally the most appropriate based on the available data, limited resources, cost, and performance?*"
   ]
  },
  {
   "cell_type": "markdown",
   "metadata": {},
   "source": [
    "**Answer: ** The most appropriate is SVC, because it hasn't overfit with the training data(F1 Score(train)<<1), it has a good F1  Score(test), at least is the closest to 1 between all classifiers and it is robust to data noise.\n",
    "\n",
    "There is a downside, it's the slowest technique between the three available.\n",
    "\n",
    "It has taken 0.210 seconds, 350% seconds more than KNeighborsClassifier and 210% seconds more than DecisionTreeClassifier"
   ]
  },
  {
   "cell_type": "markdown",
   "metadata": {},
   "source": [
    "### Question 4 - Model in Layman's Terms\n",
    "*In one to two paragraphs, explain to the board of directors in layman's terms how the final model chosen is supposed to work. Be sure that you are describing the major qualities of the model, such as how the model is trained and how the model makes a prediction. Avoid using advanced mathematical or technical jargon, such as describing equations or discussing the algorithm implementation.*"
   ]
  },
  {
   "cell_type": "markdown",
   "metadata": {},
   "source": [
    "**Answer: **SVM, Support Vector Machine is good when we can make a visible spread between the data(straight line), the main ideia is to maximize the distance between the support vectors, which are the core data for this technique.\n",
    "- The SVM takes data about previous students (age, gender, family, etc), and uses them to create a function that draws a boundary between the students who passed and those who didn't. The boundary should be drawn so as to maximize the margin,and the margin is the distance between the support vectors.With that in mind, we can draw an optimal hyperplane which successfully separate \"good students\" and \"bad students\".Often, though, it's not easy to draw a decision boundary in low dimensions, so the SVM separates the passing and failing students by 3D dimensions, that is know as the kernel trick.\n",
    "- Using this function created with students we already know passed or not, the SVM can look at new students' data and predict if they are more likely to be a passed_student(\"good student\") or a failed student(\"bad student\")."
   ]
  },
  {
   "cell_type": "markdown",
   "metadata": {},
   "source": [
    "### Implementation: Model Tuning\n",
    "Fine tune the chosen model. Use grid search (`GridSearchCV`) with at least one important parameter tuned with at least 3 different values. You will need to use the entire training set for this. In the code cell below, you will need to implement the following:\n",
    "- Import [`sklearn.grid_search.GridSearchCV`](http://scikit-learn.org/0.17/modules/generated/sklearn.grid_search.GridSearchCV.html) and [`sklearn.metrics.make_scorer`](http://scikit-learn.org/stable/modules/generated/sklearn.metrics.make_scorer.html).\n",
    "- Create a dictionary of parameters you wish to tune for the chosen model.\n",
    " - Example: `parameters = {'parameter' : [list of values]}`.\n",
    "- Initialize the classifier you've chosen and store it in `clf`.\n",
    "- Create the F<sub>1</sub> scoring function using `make_scorer` and store it in `f1_scorer`.\n",
    " - Set the `pos_label` parameter to the correct value!\n",
    "- Perform grid search on the classifier `clf` using `f1_scorer` as the scoring method, and store it in `grid_obj`.\n",
    "- Fit the grid search object to the training data (`X_train`, `y_train`), and store it in `grid_obj`."
   ]
  },
  {
   "cell_type": "code",
   "execution_count": 54,
   "metadata": {},
   "outputs": [
    {
     "name": "stdout",
     "output_type": "stream",
     "text": [
      "Made predictions in 0.0120 seconds.\n",
      "Tuned model has a training F1 score of 0.8330.\n",
      "Made predictions in 0.0050 seconds.\n",
      "Tuned model has a testing F1 score of 0.8182.\n",
      "\n",
      "             precision    recall  f1-score   support\n",
      "\n",
      "         no       0.57      0.14      0.22        29\n",
      "        yes       0.72      0.95      0.82        66\n",
      "\n",
      "avg / total       0.67      0.71      0.64        95\n",
      "\n"
     ]
    }
   ],
   "source": [
    "# TODO: Import 'GridSearchCV' and 'make_scorer'\n",
    "from sklearn.grid_search import GridSearchCV\n",
    "from sklearn.metrics import make_scorer\n",
    "# TODO: Create the parameters list you wish to tune\n",
    "parameters = {'C': [.01, .1, 1, 10, 100],'gamma': [100, 10, 1, 0.1, 0.01, 0.001],}\n",
    "\n",
    "# TODO: Initialize the classifier\n",
    "clf = SVC(random_state=10) #Same random_state=10 from untuned model\n",
    "\n",
    "# TODO: Make an f1 scoring function using 'make_scorer' \n",
    "f1_scorer = make_scorer(f1_score,pos_label = 'yes')\n",
    "\n",
    "# TODO: Perform grid search on the classifier using the f1_scorer as the scoring method\n",
    "grid_obj = GridSearchCV(clf,parameters,scoring=f1_scorer)\n",
    "\n",
    "# TODO: Fit the grid search object to the training data and find the optimal parameters\n",
    "grid_obj = grid_obj.fit(X_train,y_train)\n",
    "\n",
    "# Get the estimator\n",
    "clf = grid_obj.best_estimator_\n",
    "\n",
    "# Report the final F1 score for training and testing after parameter tuning\n",
    "print \"Tuned model has a training F1 score of {:.4f}.\".format(predict_labels(clf, X_train, y_train))\n",
    "print \"Tuned model has a testing F1 score of {:.4f}.\".format(predict_labels(clf, X_test, y_test))\n",
    "print\n",
    "from sklearn.metrics import classification_report\n",
    "print classification_report(y_test, grid_obj.predict(X_test))"
   ]
  },
  {
   "cell_type": "markdown",
   "metadata": {},
   "source": [
    "### Question 5 - Final F<sub>1</sub> Score\n",
    "*What is the final model's F<sub>1</sub> score for training and testing? How does that score compare to the untuned model?*"
   ]
  },
  {
   "cell_type": "markdown",
   "metadata": {},
   "source": [
    "**Answer: ** F1(final model) - Training: 0.8330, Testing: 0.8182\n",
    "\n",
    "Untuned Mode F1(SVM) - Training: 0.8615, Training Time: 0.0160 seconds, Testing: 0.8079, Testing Time:0.0060 seconds\n",
    "\n",
    "Untuned Model Data\n",
    "- Made predictions in 0.0160 seconds.\n",
    "- F1 score for training set: 0.8615.\n",
    "- Made predictions in 0.0060 seconds.\n",
    "- F1 score for test set: 0.8079.\n",
    "\n",
    "Tuned Model Data\n",
    "- Made predictions in 0.0120 seconds.\n",
    "- Tuned model has a training F1 score of 0.8330.\n",
    "- Made predictions in 0.0050 seconds.\n",
    "- Tuned model has a testing F1 score of 0.8182.\n",
    "\n",
    "The tuned model has a lower prediction time and a better F1 score, the tuned model works really well.\n",
    "\n",
    "One thing that should be said, it's that the F1 score for training set in the Untuned Model has a better score(0.8615) than the Tuned Model(0.8330).\n",
    "That's probably because the Tuned model could generalize better the data, and avoid 'overfitting' too much based on training data."
   ]
  },
  {
   "cell_type": "markdown",
   "metadata": {},
   "source": [
    "> **Note**: Once you have completed all of the code implementations and successfully answered each question above, you may finalize your work by exporting the iPython Notebook as an HTML document. You can do this by using the menu above and navigating to  \n",
    "**File -> Download as -> HTML (.html)**. Include the finished document along with this notebook as your submission."
   ]
  }
 ],
 "metadata": {
  "kernelspec": {
   "display_name": "Python 2",
   "language": "python",
   "name": "python2"
  },
  "language_info": {
   "codemirror_mode": {
    "name": "ipython",
    "version": 2
   },
   "file_extension": ".py",
   "mimetype": "text/x-python",
   "name": "python",
   "nbconvert_exporter": "python",
   "pygments_lexer": "ipython2",
   "version": "2.7.13"
  }
 },
 "nbformat": 4,
 "nbformat_minor": 1
}
